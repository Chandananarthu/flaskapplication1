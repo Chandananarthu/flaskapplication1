{
 "cells": [
  {
   "cell_type": "code",
   "execution_count": 9,
   "id": "6f41baab-fba3-4282-8132-c3377015d2bd",
   "metadata": {},
   "outputs": [
    {
     "name": "stdout",
     "output_type": "stream",
     "text": [
      " 3\n"
     ]
    },
    {
     "name": "stdout",
     "output_type": "stream",
     "text": [
      "number is not even\n"
     ]
    }
   ],
   "source": [
    "number = int(input())\n",
    "\n",
    "# check if number is greater than 0\n",
    "if number %2== 0:\n",
    "    print('Number is even')\n",
    "else:\n",
    "    print('number is not even')"
   ]
  },
  {
   "cell_type": "code",
   "execution_count": 1,
   "id": "01f13989-df5a-4757-9f15-5067f40a83ba",
   "metadata": {},
   "outputs": [
    {
     "name": "stdout",
     "output_type": "stream",
     "text": [
      "0 Mary\n",
      "1 had\n",
      "2 a\n",
      "3 little\n",
      "4 lamb\n"
     ]
    }
   ],
   "source": [
    "a = ['Mary', 'had', 'a', 'little', 'lamb']\n",
    "for i in range(len(a)):\n",
    "    print(i, a[i])\n"
   ]
  },
  {
   "cell_type": "code",
   "execution_count": 11,
   "id": "496957a2-0972-4249-be5c-27618dfeaced",
   "metadata": {},
   "outputs": [
    {
     "name": "stdout",
     "output_type": "stream",
     "text": [
      "Mary\n",
      "had\n",
      "a\n",
      "little\n",
      "lamb\n"
     ]
    }
   ],
   "source": [
    "a = ['Mary', 'had', 'a', 'little', 'lamb']\n",
    "for i in a:\n",
    "    print(i)\n"
   ]
  },
  {
   "cell_type": "code",
   "execution_count": 13,
   "id": "4af29ad3-a140-4537-bc4d-1729412caba6",
   "metadata": {},
   "outputs": [
    {
     "name": "stdout",
     "output_type": "stream",
     "text": [
      "2 is a prime number\n",
      "3 is a prime number\n",
      "4 equals 2 * 2\n",
      "5 is a prime number\n",
      "6 equals 2 * 3\n",
      "7 is a prime number\n",
      "8 equals 2 * 4\n",
      "9 equals 3 * 3\n"
     ]
    }
   ],
   "source": [
    "for n in range(2, 10):\n",
    "    for x in range(2, n):\n",
    "        if n % x == 0:\n",
    "            print(n, 'equals', x, '*', n//x)\n",
    "            break\n",
    "    else:\n",
    "        # loop fell through without finding a factor\n",
    "        print(n, 'is a prime number')"
   ]
  },
  {
   "cell_type": "code",
   "execution_count": 19,
   "id": "498ea4a3-2428-4610-a5df-74e65359c869",
   "metadata": {},
   "outputs": [
    {
     "name": "stdout",
     "output_type": "stream",
     "text": [
      " 4\n"
     ]
    },
    {
     "name": "stdout",
     "output_type": "stream",
     "text": [
      "4 is not prime\n"
     ]
    }
   ],
   "source": [
    "n = int(input())\n",
    "for i in range(2,n):\n",
    "    if n%i==0:\n",
    "        print(n, \"is not prime\")\n",
    "        break;\n",
    "else:\n",
    "    print(n, \"is prime\") "
   ]
  },
  {
   "cell_type": "code",
   "execution_count": 25,
   "id": "5b40df75-8846-41dd-8bd1-5b2ba2b11359",
   "metadata": {},
   "outputs": [
    {
     "name": "stdout",
     "output_type": "stream",
     "text": [
      " 2\n"
     ]
    },
    {
     "name": "stdout",
     "output_type": "stream",
     "text": [
      "nothing matched\n"
     ]
    }
   ],
   "source": [
    "status=int(input())\n",
    "match status:\n",
    "        case 400: print(\"1\")\n",
    "        case 404: print(\"2\")\n",
    "        case 418: print(\"3\")\n",
    "        case _:   print(\"nothing matched\")"
   ]
  },
  {
   "cell_type": "code",
   "execution_count": 29,
   "id": "f9bf19c3-8905-4931-84d8-15847cf872c4",
   "metadata": {},
   "outputs": [
    {
     "data": {
      "text/plain": [
       "'Bad request'"
      ]
     },
     "execution_count": 29,
     "metadata": {},
     "output_type": "execute_result"
    }
   ],
   "source": [
    "def http_error(status):\n",
    "    match status:\n",
    "        case 400:\n",
    "            return \"Bad request\"\n",
    "        case 404:\n",
    "            return \"Not found\"\n",
    "        case 418:\n",
    "            return \"I'm a teapot\"\n",
    "        case _:\n",
    "            return \"Something's wrong with the internet\"\n",
    "http_error(400)"
   ]
  },
  {
   "cell_type": "code",
   "execution_count": 35,
   "id": "ff8c0ab2-a31a-4d98-9e68-20a1e5e2ff2d",
   "metadata": {},
   "outputs": [
    {
     "name": "stdout",
     "output_type": "stream",
     "text": [
      " 1\n",
      " 2\n",
      " 3\n",
      " 55\n",
      " 6\n",
      " 77\n",
      " 88\n"
     ]
    },
    {
     "name": "stdout",
     "output_type": "stream",
     "text": [
      "[1, 2, 3, 55, 6, 77, 88]\n"
     ]
    }
   ],
   "source": [
    "list=[]\n",
    "for i in range(0,7):\n",
    "    a=int(input())\n",
    "    list.append(a)\n",
    "print(list)"
   ]
  },
  {
   "cell_type": "code",
   "execution_count": 45,
   "id": "99a01aba-d44c-4994-a51a-19f8c9f92eb5",
   "metadata": {},
   "outputs": [
    {
     "name": "stdout",
     "output_type": "stream",
     "text": [
      "1\n"
     ]
    }
   ],
   "source": [
    "tupple=(1)\n",
    "print(tupple)"
   ]
  },
  {
   "cell_type": "code",
   "execution_count": 55,
   "id": "7188923d-f771-4f16-ba98-71680d398838",
   "metadata": {},
   "outputs": [
    {
     "name": "stdout",
     "output_type": "stream",
     "text": [
      "<class 'str'>\n",
      "\n",
      "Tuple with a loop\n",
      "('Geeks',)\n",
      "(('Geeks',),)\n",
      "((('Geeks',),),)\n",
      "(((('Geeks',),),),)\n",
      "((((('Geeks',),),),),)\n"
     ]
    }
   ],
   "source": [
    "Tuple1 = ('Geeks')\n",
    "a=type(Tuple1)\n",
    "print(a)\n",
    "n = 5\n",
    "print(\"\\nTuple with a loop\")\n",
    "for i in range(int(n)):\n",
    "    Tuple1 = (Tuple1,)\n",
    "    print(Tuple1)"
   ]
  },
  {
   "cell_type": "code",
   "execution_count": 59,
   "id": "b21fd68f-934e-4461-b917-6b5fa9f9d7c9",
   "metadata": {},
   "outputs": [
    {
     "name": "stdout",
     "output_type": "stream",
     "text": [
      "<class 'tuple'>\n",
      "\n",
      "Tuple with a loop\n",
      "<class 'tuple'>\n",
      "(('Geeks',),)\n",
      "<class 'tuple'>\n",
      "((('Geeks',),),)\n",
      "<class 'tuple'>\n",
      "(((('Geeks',),),),)\n",
      "<class 'tuple'>\n",
      "((((('Geeks',),),),),)\n",
      "<class 'tuple'>\n",
      "(((((('Geeks',),),),),),)\n"
     ]
    }
   ],
   "source": [
    "Tuple1 = ('Geeks',)\n",
    "n = 5\n",
    "a=type(Tuple1)\n",
    "print(a)\n",
    "print(\"\\nTuple with a loop\")\n",
    "for i in range(int(n)):\n",
    "    Tuple1 = (Tuple1,)\n",
    "    a=type(Tuple1)\n",
    "    print(a)\n",
    "    print(Tuple1)"
   ]
  },
  {
   "cell_type": "code",
   "execution_count": 65,
   "id": "08ae7064-4bdd-4e24-8cb9-344d5bfd5d4c",
   "metadata": {},
   "outputs": [
    {
     "name": "stdout",
     "output_type": "stream",
     "text": [
      "<class 'str'>\n",
      "\n",
      "Tuple with a loop\n",
      "<class 'tuple'>\n",
      "('Geeks',)\n",
      "<class 'tuple'>\n",
      "(('Geeks',),)\n",
      "<class 'tuple'>\n",
      "((('Geeks',),),)\n",
      "<class 'tuple'>\n",
      "(((('Geeks',),),),)\n",
      "<class 'tuple'>\n",
      "((((('Geeks',),),),),)\n"
     ]
    }
   ],
   "source": [
    "Tuple1 = ('Geeks')\n",
    "n = 5\n",
    "a=type(Tuple1)\n",
    "print(a)\n",
    "print(\"\\nTuple with a loop\")\n",
    "for i in range(int(n)):\n",
    "    Tuple1 = (Tuple1,)\n",
    "    a=type(Tuple1)\n",
    "    print(a)\n",
    "    print(Tuple1)"
   ]
  },
  {
   "cell_type": "code",
   "execution_count": 67,
   "id": "6e181bf9-e810-47b2-a6f9-9de9540e6bb6",
   "metadata": {},
   "outputs": [
    {
     "name": "stdout",
     "output_type": "stream",
     "text": [
      "(1, 2, 3, 4, 5)\n"
     ]
    }
   ],
   "source": [
    "elements = ()\n",
    "for i in range(1, 6):\n",
    "    elements += (i,)  # Adding each element to the tuple\n",
    "\n",
    "print(elements)  # Output: (1, 2, 3, 4, 5)\n"
   ]
  },
  {
   "cell_type": "code",
   "execution_count": 69,
   "id": "a51f52ac-4e0b-4b7e-84d5-5c0c9d05b767",
   "metadata": {},
   "outputs": [
    {
     "name": "stdout",
     "output_type": "stream",
     "text": [
      " 1\n",
      " a\n",
      " 4\n",
      " 5\n",
      " 7\n"
     ]
    },
    {
     "name": "stdout",
     "output_type": "stream",
     "text": [
      "('1', 'a', '4', '5', '7')\n"
     ]
    }
   ],
   "source": [
    "elements = ()\n",
    "for i in range(1, 6):\n",
    "    a=input()\n",
    "    elements += (a,)  \n",
    "\n",
    "print(elements) \n"
   ]
  }
 ],
 "metadata": {
  "kernelspec": {
   "display_name": "Python 3 (ipykernel)",
   "language": "python",
   "name": "python3"
  },
  "language_info": {
   "codemirror_mode": {
    "name": "ipython",
    "version": 3
   },
   "file_extension": ".py",
   "mimetype": "text/x-python",
   "name": "python",
   "nbconvert_exporter": "python",
   "pygments_lexer": "ipython3",
   "version": "3.12.4"
  }
 },
 "nbformat": 4,
 "nbformat_minor": 5
}
