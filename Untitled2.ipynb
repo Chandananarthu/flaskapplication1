{
 "cells": [
  {
   "cell_type": "code",
   "execution_count": null,
   "id": "895c7ed9-8081-45c6-939c-49a46846c95c",
   "metadata": {},
   "outputs": [],
   "source": [
    "#Inheritance , Polymorphism,  Encapsulation,csv module, json input and reading"
   ]
  },
  {
   "cell_type": "code",
   "execution_count": null,
   "id": "62f89f98-11df-4b47-b47a-de0958f98b42",
   "metadata": {},
   "outputs": [],
   "source": [
    "#we have to invoke the __init__ of parent class in derived class"
   ]
  },
  {
   "cell_type": "code",
   "execution_count": null,
   "id": "f51337ff-5d30-40f7-9eb0-2ad5a2507d10",
   "metadata": {},
   "outputs": [],
   "source": []
  },
  {
   "cell_type": "code",
   "execution_count": 59,
   "id": "4f23d631-e30b-44e5-a840-8645c5c524a0",
   "metadata": {},
   "outputs": [
    {
     "name": "stdin",
     "output_type": "stream",
     "text": [
      "Enter name:  chandana\n",
      "My department is:  mtech ai\n",
      "I have:  passed\n",
      "Enter name:  ruby\n",
      "My department is:  mtech cs\n",
      "I have:  passed\n"
     ]
    },
    {
     "name": "stdout",
     "output_type": "stream",
     "text": [
      "Record chandana is entered on date 2024-07-15 and time is 2024-07-15 13:54:05.005111\n",
      "Record ruby is entered on date 2024-07-15 and time is 2024-07-15 13:54:05.005698\n"
     ]
    }
   ],
   "source": [
    "import csv\n",
    "from datetime import date, datetime\n",
    "import traceback\n",
    "import logging\n",
    "\n",
    "# Configure logging\n",
    "logging.basicConfig(filename='studentsdata.log', level=logging.INFO, format='%(asctime)s - %(levelname)s - %(message)s')\n",
    "\n",
    "file = open('studentsdata.csv', 'a')\n",
    "file = csv.writer(file)\n",
    "\n",
    "class Student:\n",
    "    student = \"mtech student\"  # Class variable\n",
    "    \n",
    "    def __init__(self, name):\n",
    "        self.name = name\n",
    "        self.depart = input('My department is: ')\n",
    "        self.status = input('I have: ')\n",
    "        \n",
    "    def __str__(self):\n",
    "        t = date.today()\n",
    "        current_time = datetime.now()\n",
    "        return f\"Record {self.name} is entered on date {t} and time is {current_time}\"\n",
    "    \n",
    "    def fun(self):\n",
    "        try:\n",
    "            file.writerow([self.name, self.depart, self.status])\n",
    "            logging.info(f\"record added for {self.name}\")\n",
    "        except Exception as e:\n",
    "            logging.error(f\"failed to write record for {self.name}: {e}\")\n",
    "            print(\"File can't be written:\", traceback.format_exc())\n",
    "\n",
    "students_list = []\n",
    "\n",
    "# Driver code - Object instantiation\n",
    "for i in range(2):  # Changed to 2 for simplicity\n",
    "    name = input(\"Enter name: \")\n",
    "    student = Student(name)\n",
    "    students_list.append(student)\n",
    "\n",
    "file.writerow(['Name', 'Department', 'Status'])\n",
    "for student in students_list:\n",
    "    print(student)\n",
    "    student.fun()\n"
   ]
  },
  {
   "cell_type": "code",
   "execution_count": 57,
   "id": "9eeb857a-8562-4e9d-a624-79fb61d5773f",
   "metadata": {},
   "outputs": [],
   "source": [
    "import csv\n",
    "import logging\n",
    "\n",
    "# Configure logging\n",
    "logging.basicConfig(filename='details.log', level=logging.INFO, format='%(asctime)s - %(levelname)s - %(message)s')\n",
    "\n",
    "try:\n",
    "    with open('studentsdata.csv', mode='r') as file:\n",
    "        csvFile = csv.DictReader(file)\n",
    "        for line in csvFile:\n",
    "            logging.info(f\"Read line: {line}\")\n",
    "\n",
    "except Exception as e:\n",
    "    logging.error(f\"Failed to read CSV file: {e}\")\n"
   ]
  },
  {
   "cell_type": "code",
   "execution_count": 55,
   "id": "3145f1a7-4131-4911-9331-d83397905f9d",
   "metadata": {},
   "outputs": [],
   "source": [
    "import pandas as pd\n",
    "import logging\n",
    "\n",
    "# Configure logging\n",
    "logging.basicConfig(filename='details.log', level=logging.INFO, format='%(asctime)s - %(levelname)s - %(message)s')\n",
    "df = pd.read_csv('studentsdata.csv')\n",
    "logging.info(f\"context in file using pandas: {df}\")\n",
    "cities = pd.DataFrame([['rohan', 'IMTECH','PASSED']])\n",
    "cities.to_csv('studentsdata.csv')"
   ]
  },
  {
   "cell_type": "code",
   "execution_count": 35,
   "id": "01a22468-cefd-4724-838d-c5156e0bbbeb",
   "metadata": {},
   "outputs": [
    {
     "ename": "TypeError",
     "evalue": "dump() missing 2 required positional arguments: 'obj' and 'fp'",
     "output_type": "error",
     "traceback": [
      "\u001b[1;31m---------------------------------------------------------------------------\u001b[0m",
      "\u001b[1;31mTypeError\u001b[0m                                 Traceback (most recent call last)",
      "Cell \u001b[1;32mIn[35], line 2\u001b[0m\n\u001b[0;32m      1\u001b[0m \u001b[38;5;66;03m##jusing json file\u001b[39;00m\n\u001b[1;32m----> 2\u001b[0m json\u001b[38;5;241m.\u001b[39mdump()\n\u001b[0;32m      3\u001b[0m json\u001b[38;5;241m.\u001b[39mdumps()\n\u001b[0;32m      4\u001b[0m json\u001b[38;5;241m.\u001b[39mload()\n",
      "\u001b[1;31mTypeError\u001b[0m: dump() missing 2 required positional arguments: 'obj' and 'fp'"
     ]
    }
   ],
   "source": [
    "##jusing json file\n",
    "json.dump()\n",
    "json.dumps()\n",
    "json.load()\n",
    "file.write()"
   ]
  },
  {
   "cell_type": "code",
   "execution_count": 17,
   "id": "b519dea9-8180-4524-837c-681d2b0e6ae0",
   "metadata": {},
   "outputs": [],
   "source": [
    "import json\n",
    "\n",
    "# Data to be written\n",
    "details= {\n",
    "\t\"name\": \"chandana\",\n",
    "\t\"rollno\": 11,\n",
    "\t\"cgpa\": 7.6,\n",
    "\t\"phonenumber\": \"9976770500\"\n",
    "}\n",
    "\n",
    "# Serializing json\n",
    "json_object = json.dumps(details, indent=4)\n",
    "\n",
    "# Writing to sample.json\n",
    "with open(\"totest.json\", \"w\") as outfile:\n",
    "\toutfile.write(json_object)\n"
   ]
  },
  {
   "cell_type": "code",
   "execution_count": 5,
   "id": "6268615b-e442-445e-93e6-06b10ca4697b",
   "metadata": {},
   "outputs": [
    {
     "name": "stdout",
     "output_type": "stream",
     "text": [
      "{'name': 'chandana', 'rollno': 11, 'cgpa': 7.6, 'phonenumber': '9976770500'}\n",
      "<class 'dict'>\n"
     ]
    }
   ],
   "source": [
    "import json\n",
    "import logging\n",
    "# Opening JSON file\n",
    "with open('totest.json', 'r') as openfile:\n",
    " \n",
    "    # Reading from json file\n",
    "    json_object = json.load(openfile)\n",
    " \n",
    "print(json_object)\n",
    "print(type(json_object))"
   ]
  },
  {
   "cell_type": "code",
   "execution_count": 41,
   "id": "77dc53a6-353f-410c-a740-bd7da69f0a3c",
   "metadata": {},
   "outputs": [
    {
     "name": "stdin",
     "output_type": "stream",
     "text": [
      "enter id 22mcmi11\n",
      "enter guide prof swarupa rani\n"
     ]
    },
    {
     "name": "stdout",
     "output_type": "stream",
     "text": [
      "uoh\n",
      "Mtech\n",
      "lh4\n",
      "chandana\n",
      "Mtech\n",
      "chandana student id is  22mcmi11\n",
      "  project guide is  prof swarupa rani\n"
     ]
    }
   ],
   "source": [
    "class Student:\n",
    "    university=\"uoh\"\n",
    "    def __init__(self, department, hostelno):\n",
    "        self.department=department\n",
    "        self.hostelno=hostelno\n",
    "    def display(self):\n",
    "        print(self.university)\n",
    "        print(self.department)\n",
    "        print(self.hostelno)\n",
    "class Mtechstudent(Student):\n",
    "    def __init__(self,department ,hostelno ,name):\n",
    "        Student.__init__(self, department, hostelno)\n",
    "        self.name=name\n",
    "        self.id=input(\"enter id\")\n",
    "        self.guide=input(\"enter guide\")\n",
    "        \n",
    "    def fun(self):\n",
    "        print(self.name)\n",
    "        print(self.department)\n",
    "        print(self.name,\"student id is \",self.id)\n",
    "        print(\"  project guide is \",self.guide)\n",
    "a=Mtechstudent('Mtech' ,'lh4' ,'chandana')\n",
    "a.display()\n",
    "a.fun()"
   ]
  },
  {
   "cell_type": "code",
   "execution_count": 1,
   "id": "bba28f44-0930-41e0-acbf-35fbef5d965b",
   "metadata": {},
   "outputs": [
    {
     "name": "stdin",
     "output_type": "stream",
     "text": [
      "Enter ID:  22mcmi11\n",
      "Enter guide:  prof swarupa rani\n"
     ]
    },
    {
     "name": "stderr",
     "output_type": "stream",
     "text": [
      "2024-07-15 10:49:15,634 - INFO - Displaying student information:\n",
      "2024-07-15 10:49:15,637 - INFO - University: uoh\n",
      "2024-07-15 10:49:15,637 - INFO - Department: Mtech\n",
      "2024-07-15 10:49:15,638 - INFO - Hostel Number: lh4\n",
      "2024-07-15 10:49:15,639 - INFO - Displaying student fun information:\n",
      "2024-07-15 10:49:15,640 - INFO - Name: chandana\n",
      "2024-07-15 10:49:15,640 - INFO - Department: Mtech\n",
      "2024-07-15 10:49:15,640 - INFO - chandana's student ID is 22mcmi11\n",
      "2024-07-15 10:49:15,640 - INFO - Project guide is prof swarupa rani\n"
     ]
    }
   ],
   "source": [
    "import logging\n",
    "\n",
    "# Configure logging\n",
    "logging.basicConfig(level=logging.INFO, format='%(asctime)s - %(levelname)s - %(message)s')\n",
    "\n",
    "class Student:\n",
    "    university = \"uoh\"\n",
    "\n",
    "    def __init__(self, department, hostelno):\n",
    "        self.department = department\n",
    "        self.hostelno = hostelno\n",
    "\n",
    "    def display(self):\n",
    "        logging.info(\"University: %s\", self.university)\n",
    "        logging.info(\"Department: %s\", self.department)\n",
    "        logging.info(\"Hostel Number: %s\", self.hostelno)\n",
    "\n",
    "\n",
    "class Mtechstudent(Student):\n",
    "    def __init__(self, department, hostelno, name):\n",
    "        super().__init__(department, hostelno)\n",
    "        self.name = name\n",
    "        self.id = input(\"Enter ID: \")\n",
    "        self.guide = input(\"Enter guide: \")\n",
    "\n",
    "    def fun(self):\n",
    "        logging.info(\"Name: %s\", self.name)\n",
    "        logging.info(\"Department: %s\", self.department)\n",
    "        logging.info(\"%s's student ID is %s\", self.name, self.id)\n",
    "        logging.info(\"Project guide is %s\", self.guide)\n",
    "\n",
    "\n",
    "# Example usage\n",
    "if __name__ == \"__main__\":\n",
    "    # Creating an instance of Mtechstudent\n",
    "    a = Mtechstudent('Mtech', 'lh4', 'chandana')\n",
    "    \n",
    "    # Logging display information\n",
    "    logging.info(\"Displaying student information:\")\n",
    "    a.display()\n",
    "    \n",
    "    # Logging fun information\n",
    "    logging.info(\"Displaying student fun information:\")\n",
    "    a.fun()\n"
   ]
  },
  {
   "cell_type": "code",
   "execution_count": null,
   "id": "a6155902-eb9a-497e-8789-f8559250c2d4",
   "metadata": {},
   "outputs": [],
   "source": []
  }
 ],
 "metadata": {
  "kernelspec": {
   "display_name": "Python 3 (ipykernel)",
   "language": "python",
   "name": "python3"
  },
  "language_info": {
   "codemirror_mode": {
    "name": "ipython",
    "version": 3
   },
   "file_extension": ".py",
   "mimetype": "text/x-python",
   "name": "python",
   "nbconvert_exporter": "python",
   "pygments_lexer": "ipython3",
   "version": "3.12.4"
  }
 },
 "nbformat": 4,
 "nbformat_minor": 5
}
