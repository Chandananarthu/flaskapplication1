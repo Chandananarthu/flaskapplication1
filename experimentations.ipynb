{
 "cells": [
  {
   "cell_type": "code",
   "execution_count": null,
   "id": "2a6c491a-491a-4e53-9b5d-917b0d39952e",
   "metadata": {},
   "outputs": [],
   "source": [
    "Classes are created by keyword class.\n",
    "Attributes are the variables that belong to a class.\n",
    "Attributes are always public and can be accessed using the dot (.) operator. Eg.: My class.Myattribute\n",
    "When we call a method of this object as myobject.method(arg1, arg2), \n",
    "this is automatically converted by Python into MyClass.method(myobject, arg1, arg2) – this is all the special self is about. "
   ]
  },
  {
   "cell_type": "code",
   "execution_count": 27,
   "id": "34b56506-5d31-4566-8780-2d0f271d1030",
   "metadata": {},
   "outputs": [
    {
     "name": "stdin",
     "output_type": "stream",
     "text": [
      "my name is chandana\n",
      "my department is mtech ai\n",
      "i have  passed the course\n",
      "my name is ruby\n",
      "my department is mecth cse\n",
      "i have  passed\n"
     ]
    },
    {
     "name": "stdout",
     "output_type": "stream",
     "text": [
      "chandana\n",
      "mtech ai\n",
      "passed the course\n",
      "ruby\n",
      "mecth cse\n",
      "passed\n"
     ]
    }
   ],
   "source": [
    "class Student:\n",
    "\n",
    "    # A simple class\n",
    "    # attribute\n",
    "    def Inputattr(self):\n",
    "        self.name = input('my name is')\n",
    "        self.depart = input('my department is')\n",
    "        self.status = input('i have ')\n",
    "\n",
    "    # A sample method\n",
    "    def fun(self):\n",
    "        print(self.name)\n",
    "        \n",
    "        print(self.depart)\n",
    "        print(self.status)\n",
    "\n",
    "list=[]\n",
    "# Driver code\n",
    "# Object instantiation\n",
    "for i in range(0,2):\n",
    "    a=Student()\n",
    "    list.append(a)\n",
    "for i in range(0,2):\n",
    "    list[i].Inputattr()\n",
    "for i in range(0,2):\n",
    "    list[i].fun()"
   ]
  },
  {
   "cell_type": "code",
   "execution_count": null,
   "id": "7dbf5f88-8107-49c4-83f3-4250da344d4d",
   "metadata": {},
   "outputs": [],
   "source": [
    "__init__(self,name)\n",
    "The __init__ method is similar to constructors in C++ and Java. Constructors are used to initializing the object’s state. \n",
    "Like methods, a constructor also contains a collection of statements(i.e. instructions) that are executed at the time of Object creation. \n",
    "It runs as soon as an object of a class is instantiated. \n",
    "The method is useful to do any initialization you want to do with your object."
   ]
  },
  {
   "cell_type": "code",
   "execution_count": 33,
   "id": "005bcbf3-d3e2-468d-b94e-b7e914d8d280",
   "metadata": {},
   "outputs": [
    {
     "name": "stdin",
     "output_type": "stream",
     "text": [
      "enter name chandana\n",
      "my department is metech ai\n",
      "i have  passed\n",
      "enter name ruby\n",
      "my department is metch cse\\\n",
      "i have  passed\n"
     ]
    },
    {
     "name": "stdout",
     "output_type": "stream",
     "text": [
      "chandana\n",
      "metech ai\n",
      "passed\n",
      "ruby\n",
      "metch cse\\\n",
      "passed\n"
     ]
    }
   ],
   "source": [
    "class Student:\n",
    "\n",
    "    # A simple class\n",
    "    # attribute\n",
    "    def __init__(self,name):\n",
    "        self.name = name\n",
    "        self.depart = input('my department is')\n",
    "        self.status = input('i have ')\n",
    "\n",
    "    # A sample method\n",
    "    def fun(self):\n",
    "        print(self.name)\n",
    "        \n",
    "        print(self.depart)\n",
    "        print(self.status)\n",
    "\n",
    "list=[]\n",
    "# Driver code\n",
    "# Object instantiation\n",
    "for i in range(0,2):\n",
    "    name=input(\"enter name\")\n",
    "    a=Student(name)\n",
    "    list.append(a)\n",
    "for i in range(0,2):\n",
    "    list[i].fun()"
   ]
  },
  {
   "cell_type": "code",
   "execution_count": null,
   "id": "fc29c139-6bcf-442a-a63f-0a8c7673d155",
   "metadata": {},
   "outputs": [],
   "source": [
    "__str__() method\n",
    "Python has a particular method called __str__(). that is used to define how a class object should be represented as a string. It is often used to give an object a human-readable textual representation, which is helpful for logging, debugging, or showing users object information. When a class object is used to create a string using the built-in functions print() and str(), the __str__() function is automatically used. \n",
    "You can alter how objects of a class are represented in strings by defining the __str__() method"
   ]
  },
  {
   "cell_type": "code",
   "execution_count": 49,
   "id": "99a5b1fd-a282-4caa-a96d-9f2345763a16",
   "metadata": {},
   "outputs": [
    {
     "name": "stdin",
     "output_type": "stream",
     "text": [
      "enter name chandana\n",
      "my department is mtech ai\n",
      "i have  passed\n",
      "enter name ruby\n",
      "my department is mtech cs\n",
      "i have  passed\n"
     ]
    },
    {
     "name": "stdout",
     "output_type": "stream",
     "text": [
      " record chandana is entered\n",
      "chandana\n",
      "mtech ai\n",
      "passed\n",
      " record ruby is entered\n",
      "ruby\n",
      "mtech cs\n",
      "passed\n"
     ]
    }
   ],
   "source": [
    "class Student:\n",
    "\n",
    "    # A simple class\n",
    "    # attribute\n",
    "    def __init__(self,name):\n",
    "        self.name = name\n",
    "        self.depart = input('my department is')\n",
    "        self.status = input('i have ')\n",
    "\n",
    "    # A sample method\n",
    "    def __str__(self):\n",
    "        return f\" record {self.name} is entered\"\n",
    "    # A sample method\n",
    "    def fun(self):\n",
    "        print(self.name)\n",
    "        \n",
    "        print(self.depart)\n",
    "        print(self.status)\n",
    "\n",
    "list=[]\n",
    "# Driver code\n",
    "# Object instantiation\n",
    "for i in range(0,2):\n",
    "    name=input(\"enter name\")\n",
    "    a=Student(name)\n",
    "    list.append(a)\n",
    "for i in range(0,2):\n",
    "    print(list[i])\n",
    "    list[i].fun()\n"
   ]
  },
  {
   "cell_type": "markdown",
   "id": "423384a9-f453-4ba0-82fa-6f96122f6e4c",
   "metadata": {},
   "source": [
    "## Class and Instance Variables and date and time\r\n",
    "Instance variables are for data, unique to each instance and class variables are for attributes and methods shared by all instances of the class. Instance variables are variables whose value is assigned inside a constructor or method with self whereas class variables are variables whose value is assigned in the class."
   ]
  },
  {
   "cell_type": "code",
   "execution_count": 65,
   "id": "29c4005b-36b4-463d-a6ed-37048319b517",
   "metadata": {},
   "outputs": [
    {
     "name": "stdin",
     "output_type": "stream",
     "text": [
      "enter name chandana\n",
      "my department is mtech aio\n",
      "i have  passed\n",
      "enter name runy\n",
      "my department is mtech cs\\\n",
      "i have  passed\n"
     ]
    },
    {
     "name": "stdout",
     "output_type": "stream",
     "text": [
      " record chandana is entered on date 2024-07-11 and time is 2024-07-11 14:40:27.459718 \n",
      "chandana\n",
      "mtech student\n",
      "mtech aio\n",
      "passed\n",
      " record runy is entered on date 2024-07-11 and time is 2024-07-11 14:40:27.459718 \n",
      "runy\n",
      "mtech student\n",
      "mtech cs\\\n",
      "passed\n"
     ]
    }
   ],
   "source": [
    "from datetime import date, datetime\n",
    "class Student:\n",
    "\n",
    "    # A simple class\n",
    "    # attribute\n",
    "    student=\"mtech student\"#class variables\n",
    "    def __init__(self,name):\n",
    "        self.name = name\n",
    "        self.depart = input('my department is')\n",
    "        self.status = input('i have ')\n",
    "\n",
    "    # A sample method\n",
    "    def __str__(self):\n",
    "        t=date.today()\n",
    "        curenttime= datetime.now()\n",
    "        return f\" record {self.name} is entered on date {t} and time is {curenttime} \"\n",
    "    # A sample method\n",
    "    def fun(self):\n",
    "        print(self.name)\n",
    "        print(self.student)\n",
    "        print(self.depart)\n",
    "        print(self.status)\n",
    "\n",
    "list=[]\n",
    "# Driver code\n",
    "# Object instantiation\n",
    "for i in range(0,2):\n",
    "    name=input(\"enter name\")\n",
    "    a=Student(name)\n",
    "    list.append(a)\n",
    "for i in range(0,2):\n",
    "    print(list[i])\n",
    "    list[i].fun()\n"
   ]
  },
  {
   "cell_type": "code",
   "execution_count": null,
   "id": "337973fd-8196-4eb6-afff-262d776d926f",
   "metadata": {},
   "outputs": [],
   "source": [
    "#files\n",
    " Python treats files differently as text or binary. Each line of a file is terminated with a special character, called the EOL or End of Line characters like comma {,} or newline character. It ends the current line and tells the interpreter a new one has begun"
   ]
  },
  {
   "cell_type": "code",
   "execution_count": 111,
   "id": "0b887a95-6fd4-44ef-9f99-8704d6c3cd9c",
   "metadata": {},
   "outputs": [
    {
     "name": "stdin",
     "output_type": "stream",
     "text": [
      "enter name chandana\n",
      "my department is mtech ai\n",
      "i have  passed\n",
      "enter name ruby\n",
      "my department is mtech cs\n",
      "i have  passed\n"
     ]
    },
    {
     "name": "stdout",
     "output_type": "stream",
     "text": [
      " record chandana is entered on date 2024-07-11 and time is 2024-07-11 17:43:54.602769 \n",
      " record ruby is entered on date 2024-07-11 and time is 2024-07-11 17:43:54.602769 \n"
     ]
    }
   ],
   "source": [
    "from datetime import date, datetime\n",
    "file = open('recordodmtechstudents.txt', 'w')\n",
    "class Student:\n",
    "\n",
    "    # A simple class\n",
    "    # attribute\n",
    "    student=\"mtech student\"#class variables\n",
    "    def __init__(self,name):\n",
    "        self.name = name\n",
    "        self.depart = input('my department is')\n",
    "        self.status = input('i have ')\n",
    "    def __str__(self):\n",
    "        t=date.today()\n",
    "        curenttime= datetime.now()\n",
    "        return f\" record {self.name} is entered on date {t} and time is {curenttime} \"\n",
    "\n",
    "    def fun(self):\n",
    "        file.write(self.name)\n",
    "        file.write(\"\\t details:\\n\")\n",
    "        file.write(self.student)\n",
    "        file.write(\"\\t\")\n",
    "        file.write(self.depart)\n",
    "        file.write(\"\\t\")\n",
    "        file.write(self.status)\n",
    "        file.write(\"\\n\")\n",
    "        file.write(\"\\n\")\n",
    "\n",
    "list=[]\n",
    "# Driver code\n",
    "# Object instantiation\n",
    "for i in range(0,2):\n",
    "    name=input(\"enter name\")\n",
    "    a=Student(name)\n",
    "    list.append(a)\n",
    "for i in range(0,2):\n",
    "    print(list[i])\n",
    "    list[i].fun()\n",
    "\n",
    "file.close()\n"
   ]
  },
  {
   "cell_type": "code",
   "execution_count": null,
   "id": "d9a681bc-beb5-41a2-968b-19b08770f515",
   "metadata": {},
   "outputs": [],
   "source": [
    "Error in Python can be of two types i.e. Syntax errors and Exceptions. Errors are problems in a program due to which the program will stop the execution. \n",
    "On the other hand, exceptions are raised when some internal events occur which change the normal flow of the program.\n",
    "SyntaxError: This exception is raised when the interpreter encounters a syntax error in the code, such as a misspelled keyword, a missing colon, or an unbalanced parenthesis.\n",
    "TypeError: This exception is raised when an operation or function is applied to an object of the wrong type, such as adding a string to an integer.\n",
    "NameError: This exception is raised when a variable or function name is not found in the current scope.\n",
    "IndexError: This exception is raised when an index is out of range for a list, tuple, or other sequence types.\n",
    "KeyError: This exception is raised when a key is not found in a dictionary.\n",
    "ValueError: This exception is raised when a function or method is called with an invalid argument or input, such as trying to convert a string to an integer when the string does not represent a valid integer.\n",
    "AttributeError: This exception is raised when an attribute or method is not found on an object, such as trying to access a non-existent attribute of a class instance.\n",
    "IOError: This exception is raised when an I/O operation, such as reading or writing a file, fails due to an input/output error.\n",
    "ZeroDivisionError: This exception is raised when an attempt is made to divide a number by zero.\n",
    "ImportError: This exception is raised when an import statement fails to find or load a module."
   ]
  },
  {
   "cell_type": "code",
   "execution_count": 117,
   "id": "23812e99-da49-462f-a9b0-f54516a0dc41",
   "metadata": {},
   "outputs": [
    {
     "name": "stdin",
     "output_type": "stream",
     "text": [
      "enter name chandana\n",
      "my department is mtech ai\n",
      "i have  passed\n",
      "enter name ruby\n",
      "my department is mtech cs\n",
      "i have  passed\n"
     ]
    },
    {
     "name": "stdout",
     "output_type": "stream",
     "text": [
      " record chandana is entered on date 2024-07-11 and time is 2024-07-11 18:01:33.836009 \n",
      " record ruby is entered on date 2024-07-11 and time is 2024-07-11 18:01:33.836009 \n"
     ]
    }
   ],
   "source": [
    "from datetime import date, datetime\n",
    "\n",
    "file = open('recordodmtechstudents.txt', 'a')\n",
    "class Student:\n",
    "\n",
    "    # A simple class\n",
    "    # attribute\n",
    "    student=\"mtech student\"#class variables\n",
    "    def __init__(self,name):\n",
    "        self.name = name\n",
    "        self.depart = input('my department is')\n",
    "        self.status = input('i have ')\n",
    "    def __str__(self):\n",
    "        t=date.today()\n",
    "        curenttime= datetime.now()\n",
    "        return f\" record {self.name} is entered on date {t} and time is {curenttime} \"\n",
    "    try:\n",
    "        def fun(self):\n",
    "            file.write(self.name)\n",
    "            file.write(\"\\t details:\\n\")\n",
    "            file.write(self.student)\n",
    "            file.write(\"\\t\")\n",
    "            file.write(self.depart)\n",
    "            file.write(\"\\t\")\n",
    "            file.write(self.status)\n",
    "            file.write(\"\\n\")\n",
    "            file.write(\"\\n\")\n",
    "     \n",
    "    except IOError:\n",
    "        print(\"file cant be written\")\n",
    "    \n",
    "\n",
    "list=[]\n",
    "# Driver code\n",
    "# Object instantiation\n",
    "for i in range(0,2):\n",
    "    name=input(\"enter name\")\n",
    "    a=Student(name)\n",
    "    list.append(a)\n",
    "for i in range(0,2):\n",
    "    print(list[i])\n",
    "    list[i].fun()\n",
    "\n",
    "file.close()\n"
   ]
  },
  {
   "cell_type": "code",
   "execution_count": 3,
   "id": "889effcb-e006-4620-9fab-f2657e869b3a",
   "metadata": {},
   "outputs": [
    {
     "name": "stdin",
     "output_type": "stream",
     "text": [
      "enter name chandana\n",
      "my department is mtech ai\n",
      "i have  passed\n",
      "enter name ruby\n",
      "my department is mtech cs\n",
      "i have  passed\n"
     ]
    },
    {
     "name": "stdout",
     "output_type": "stream",
     "text": [
      " record chandana is entered on date 2024-07-12 and time is 2024-07-12 09:59:07.576625 \n",
      "file cant be written\n",
      " record ruby is entered on date 2024-07-12 and time is 2024-07-12 09:59:07.576625 \n",
      "file cant be written\n"
     ]
    }
   ],
   "source": [
    "from datetime import date, datetime\n",
    "\n",
    "file = open('recordodmtechstudents.txt', 'a')\n",
    "class Student:\n",
    "\n",
    "    # A simple class\n",
    "    # attribute\n",
    "    student=\"mtech student\"#class variables\n",
    "    def __init__(self,name):\n",
    "        self.name = name\n",
    "        self.depart = input('my department is')\n",
    "        self.status = input('i have ')\n",
    "    def __str__(self):\n",
    "        t=date.today()\n",
    "        curenttime= datetime.now()\n",
    "        return f\" record {self.name} is entered on date {t} and time is {curenttime} \"\n",
    "    \n",
    "    def fun(self):\n",
    "        try:\n",
    "            file.write(self.name)\n",
    "            file.write(\"\\t details:\\n\")\n",
    "            file.write(self.student)\n",
    "            file.write(\"\\t\")\n",
    "            file1.write(self.depart)\n",
    "            file.write(\"\\t\")\n",
    "            file.write(self.status)\n",
    "            file.write(\"\\n\")\n",
    "            file.write(\"\\n\")\n",
    "     \n",
    "        except NameError:\n",
    "           print(\"file cant be written\")\n",
    "    \n",
    "\n",
    "list=[]\n",
    "# Driver code\n",
    "# Object instantiation\n",
    "for i in range(0,2):\n",
    "    name=input(\"enter name\")\n",
    "    a=Student(name)\n",
    "    list.append(a)\n",
    "for i in range(0,2):\n",
    "    print(list[i])\n",
    "    list[i].fun()\n",
    "    \n",
    "\n",
    "file.close()\n"
   ]
  },
  {
   "cell_type": "code",
   "execution_count": null,
   "id": "31adb814-8c12-4ed4-a041-09e734fbe7f5",
   "metadata": {},
   "outputs": [],
   "source": [
    "Try and exceptions------>"
   ]
  },
  {
   "cell_type": "code",
   "execution_count": 14,
   "id": "7216ac49-4801-4389-ba02-2b07c0f89ceb",
   "metadata": {},
   "outputs": [
    {
     "name": "stdin",
     "output_type": "stream",
     "text": [
      "enter name ch\n",
      "my department is mt\n",
      "i have  passed\n",
      "enter name ruby\n",
      "my department is mt\n",
      "i have  dd\n"
     ]
    },
    {
     "name": "stdout",
     "output_type": "stream",
     "text": [
      " record ch is entered on date 2024-07-12 and time is 2024-07-12 10:14:19.904728 \n",
      "file cant be written 'Student' object has no attribute 'name1'\n",
      " record ruby is entered on date 2024-07-12 and time is 2024-07-12 10:14:19.904728 \n",
      "file cant be written 'Student' object has no attribute 'name1'\n"
     ]
    }
   ],
   "source": [
    "from datetime import date, datetime\n",
    "import traceback\n",
    "file = open('recordodmtechstudents.txt', 'a')\n",
    "class Student:\n",
    "\n",
    "    # A simple class\n",
    "    # attribute\n",
    "    student=\"mtech student\"#class variables\n",
    "    def __init__(self,name):\n",
    "        self.name = name\n",
    "        self.depart = input('my department is')\n",
    "        self.status = input('i have ')\n",
    "    def __str__(self):\n",
    "        t=date.today()\n",
    "        curenttime= datetime.now()\n",
    "        return f\" record {self.name} is entered on date {t} and time is {curenttime} \"\n",
    "    \n",
    "    def fun(self):\n",
    "        try:\n",
    "            file.write(self.name1)\n",
    "            file.write(\"\\t details:\\n\")\n",
    "            file.write(self.student)\n",
    "            file.write(\"\\t\")\n",
    "            file.write(self.depart)\n",
    "            file.write(\"\\t\")\n",
    "            file.write(self.status)\n",
    "            file.write(\"\\n\")\n",
    "            file.write(\"\\n\")\n",
    "     \n",
    "        except Exception as e:\n",
    "           print(\"file cant be written\", e)\n",
    "    \n",
    "\n",
    "list=[]\n",
    "# Driver code\n",
    "# Object instantiation\n",
    "for i in range(0,2):\n",
    "    name=input(\"enter name\")\n",
    "    a=Student(name)\n",
    "    list.append(a)\n",
    "for i in range(0,2):\n",
    "    print(list[i])\n",
    "    list[i].fun()\n",
    "    \n",
    "\n",
    "file.close()\n"
   ]
  },
  {
   "cell_type": "code",
   "execution_count": null,
   "id": "529db35b-03ea-44ef-8613-025acdbc3a44",
   "metadata": {},
   "outputs": [],
   "source": [
    "trace back-------------->"
   ]
  },
  {
   "cell_type": "code",
   "execution_count": 1,
   "id": "60bde33e-f8a3-4be3-91ea-3061ab6910ec",
   "metadata": {},
   "outputs": [
    {
     "name": "stdin",
     "output_type": "stream",
     "text": [
      "enter name chandana\n",
      "my department is mtech ai\n",
      "i have  passed\n",
      "enter name ruby\n",
      "my department is mtech cs\n",
      "i have  passed\n"
     ]
    },
    {
     "name": "stdout",
     "output_type": "stream",
     "text": [
      " record chandana is entered on date 2024-07-12 and time is 2024-07-12 10:24:17.720951 \n",
      "file cant be written Traceback (most recent call last):\n",
      "  File \"C:\\Users\\ChandanaNarthu\\AppData\\Local\\Temp\\ipykernel_16600\\2547470325.py\", line 20, in fun\n",
      "    file.write(self.name1)\n",
      "               ^^^^^^^^^^\n",
      "AttributeError: 'Student' object has no attribute 'name1'. Did you mean: 'name'?\n",
      "\n",
      " record ruby is entered on date 2024-07-12 and time is 2024-07-12 10:24:17.722066 \n",
      "file cant be written Traceback (most recent call last):\n",
      "  File \"C:\\Users\\ChandanaNarthu\\AppData\\Local\\Temp\\ipykernel_16600\\2547470325.py\", line 20, in fun\n",
      "    file.write(self.name1)\n",
      "               ^^^^^^^^^^\n",
      "AttributeError: 'Student' object has no attribute 'name1'. Did you mean: 'name'?\n",
      "\n"
     ]
    }
   ],
   "source": [
    "from datetime import date, datetime\n",
    "import traceback\n",
    "file = open('recordodmtechstudents.txt', 'a')\n",
    "class Student:\n",
    "\n",
    "    # A simple class\n",
    "    # attribute\n",
    "    student=\"mtech student\"#class variables\n",
    "    def __init__(self,name):\n",
    "        self.name = name\n",
    "        self.depart = input('my department is')\n",
    "        self.status = input('i have ')\n",
    "    def __str__(self):\n",
    "        t=date.today()\n",
    "        curenttime= datetime.now()\n",
    "        return f\" record {self.name} is entered on date {t} and time is {curenttime} \"\n",
    "    \n",
    "    def fun(self):\n",
    "        try:\n",
    "            file.write(self.name1)\n",
    "            file.write(\"\\t details:\\n\")\n",
    "            file.write(self.student)\n",
    "            file.write(\"\\t\")\n",
    "            file.write(self.depart)\n",
    "            file.write(\"\\t\")\n",
    "            file.write(self.status)\n",
    "            file.write(\"\\n\")\n",
    "            file.write(\"\\n\")\n",
    "     \n",
    "        except:\n",
    "           print(\"file cant be written\", traceback.format_exc())\n",
    "    \n",
    "\n",
    "list=[]\n",
    "# Driver code\n",
    "# Object instantiation\n",
    "for i in range(0,2):\n",
    "    name=input(\"enter name\")\n",
    "    a=Student(name)\n",
    "    list.append(a)\n",
    "for i in range(0,2):\n",
    "    print(list[i])\n",
    "    list[i].fun()\n",
    "    \n",
    "\n",
    "file.close()\n"
   ]
  }
 ],
 "metadata": {
  "kernelspec": {
   "display_name": "Python 3 (ipykernel)",
   "language": "python",
   "name": "python3"
  },
  "language_info": {
   "codemirror_mode": {
    "name": "ipython",
    "version": 3
   },
   "file_extension": ".py",
   "mimetype": "text/x-python",
   "name": "python",
   "nbconvert_exporter": "python",
   "pygments_lexer": "ipython3",
   "version": "3.12.4"
  }
 },
 "nbformat": 4,
 "nbformat_minor": 5
}
